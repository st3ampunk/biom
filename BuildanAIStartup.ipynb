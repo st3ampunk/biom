{
  "nbformat": 4,
  "nbformat_minor": 0,
  "metadata": {
    "colab": {
      "name": "BuildanAIStartup.ipynb",
      "version": "0.3.2",
      "provenance": []
    },
    "kernelspec": {
      "name": "python3",
      "display_name": "Python 3"
    }
  },
  "cells": [
    {
      "metadata": {
        "id": "IxwWtl97GQxa",
        "colab_type": "text"
      },
      "cell_type": "markdown",
      "source": [
        "# Watch Me Build an AI Startup (10 Steps)\n",
        "\n",
        "\n",
        "![alt text](https://i.imgur.com/h7mhRgZ.jpg)\n",
        "\n",
        "- **Step 1** List Personal Problems\n",
        "- **Step 2 ** Market Research (competing products)\n",
        "- **Step 3** Buy Domain\n",
        "- **Step 4** Create Landing Page\n",
        "- **Step 5** Share Landing Page\n",
        "- **Step 6** Create Business Plan \n",
        "- **Step 7** Design Pipeline \n",
        "- **Step 8** Transfer Learning (!) \n",
        "- **Step 9** Create Web App\n",
        "- **Step 10** Deploy! \n",
        "\n"
      ]
    },
    {
      "metadata": {
        "id": "-ppEK1afHxkz",
        "colab_type": "text"
      },
      "cell_type": "markdown",
      "source": [
        "# Step 1 - List Personal Problems\n",
        "\n",
        "## The star is your next startup idea\n",
        "![alt text](https://static1.squarespace.com/static/52ed464fe4b0c88faa50c335/t/5616b3e5e4b0041a87d16720/1444328439304/)\n",
        "\n",
        "## This has actually been codified by the Japanese 100+ years ago. It's called \"Ikigai\"\n",
        "\n",
        "![alt text](https://www.bocahouse.com/wp-content/uploads/2018/03/Untitled-Design-5-1170x628.jpg)\n",
        "\n",
        "### What Industry excites you?\n",
        "\n",
        "![alt text](https://www.tractica.com/wp-content/uploads/2018/08/MD-AIMF-3Q18-chart.jpg)\n",
        "\n",
        "### My 3 passions (human enhancement)\n",
        "\n",
        "- Healthcare - Physical Enhancement via AI\n",
        "- Education - Intellectual Enhancement via AI\n",
        "- Scientific Research - Increasing human knowledge of this reality\n",
        "\n",
        "## Thought exercise \n",
        "\n",
        "1) Hey, this problem sucks! \n",
        "\n",
        "2) How many people have this problem?\n",
        "\n",
        "3) How many other ways are there to solve it or live with it?\n",
        "\n",
        "4) What would it cost to offer a solution?\n",
        "\n",
        "5) How does the cost compare with the pain of the problem, and the cost of other options (including 'doing nothing'!)?\n",
        "\n",
        "\n",
        "# Still can't find a problem you're passionate about? Live abroad for at least a month (increase training data via new culture, values, language, perspectives)\n"
      ]
    },
    {
      "metadata": {
        "id": "czFrkP4xQejT",
        "colab_type": "text"
      },
      "cell_type": "markdown",
      "source": [
        "# Step 2 - Market Research (competing products)\n",
        "\n",
        "### AI can do so much! This is a subset of possibilities\n",
        "\n",
        "![alt text](https://www.cicada.org.au/www/images/articles/2020/06-June/AI.png)\n",
        "\n",
        "### Lets do Automated Diagnosis using image classification technology\n",
        "\n",
        "![alt text](https://2.bp.blogspot.com/-xaPxe_KvLlM/WTMtxwUox6I/AAAAAAAALig/09b3GlXGlw0sjMkd9Ar3aTOnrAUqsN8CgCLcB/s1600/class5.jpg)\n",
        "\n",
        "### Competitor Landscape \n",
        "\n",
        "![alt text](https://cdn.nanalyze.com/uploads/2017/08/Medical-Imaging-AI-Startups.jpg)\n",
        "\n",
        "### The Lung Imaging Landscape looks easily disruptable (not specialized enough, pricing out lower end hospitals)"
      ]
    },
    {
      "metadata": {
        "id": "FS-JjqgvTs_i",
        "colab_type": "text"
      },
      "cell_type": "markdown",
      "source": [
        "# Step 3 - Buy Domain\n",
        "\n",
        "1. Go to Godaddy.com\n",
        "2. Find an unused domain name (don't buy an existing one, not worth it)\n",
        "3. Buy it! \n",
        "\n",
        "# Order of Preference\n",
        "\n",
        "1. .com \n",
        "2. .ai"
      ]
    },
    {
      "metadata": {
        "id": "5qIjHpeCUDsi",
        "colab_type": "text"
      },
      "cell_type": "markdown",
      "source": [
        "# Step 4 - Create Landing Page \n",
        "\n",
        "## We need a logo and style guide! Lets use AI to generate one (i used this for School of AI as well)\n",
        "\n",
        "[www.brandmark.io](https://www.brandmark.io)\n",
        "\n",
        "![alt text](https://i0.wp.com/ykubot.com/wp-content/uploads/2017/08/01_top.png?fit=1440%2C900)\n",
        "\n",
        "## Now we can instantly create an email landing page with Mailchimp \n",
        "\n",
        "[www.mailchimp.com](https://www.mailchimp.com)\n",
        "\n",
        "![alt text](https://www.growthmarketingpro.com/wp-content/uploads/2018/09/mailchimp-landing-page-builder-published-page.png)\n"
      ]
    },
    {
      "metadata": {
        "id": "ngMDZ8hfWgjb",
        "colab_type": "text"
      },
      "cell_type": "markdown",
      "source": [
        "## Step 5 - Share Landing Page\n",
        "\n",
        "- Reach out to Social Networks to see if we get any signups\n",
        "- Reach out to nearby hospitals and other medical facitilies\n",
        "\n",
        "![alt text](https://i.imgur.com/irWN3Bv.png)\n"
      ]
    },
    {
      "metadata": {
        "id": "gb_MNyqfYljC",
        "colab_type": "text"
      },
      "cell_type": "markdown",
      "source": [
        "# Step 6 - Create Business Plan\n",
        "\n",
        "![alt text](https://i.pinimg.com/originals/4a/f3/c3/4af3c33809719606882232131f768b8b.png)\n",
        "\n",
        "- Step 1 - Get 25 signups\n",
        "- Step 2 - Create SaaS\n",
        "- Step 3 - Convert signups to paid clients\n",
        "- Step 4 - Collect feedback\n",
        "- Step 5 - Improve app using feedback\n",
        "- Step 6 - Collect 100 more paid clients\n",
        "- Step 7 - Repeat Steps 4-6 until I hit a scaling limit\n",
        "- Step 8 - Make 2 hires (full stack engineer, sales)\n",
        "- Step 9 - Create more generalized offering\n",
        "- Step 10 - Raise a first round\n",
        "- Step 11 - Hire a larger team\n",
        "- Step 12 - ??? \n",
        "- Step 13 - Profit\n",
        "- Step 14 - Exit Strategy (Google buys us out. Actually, we'll buy Google out :) ) \n",
        "\n",
        "![alt text](https://images-na.ssl-images-amazon.com/images/I/81-QB7nDh4L.jpg)\n"
      ]
    },
    {
      "metadata": {
        "id": "SYKzC4_aq0zY",
        "colab_type": "text"
      },
      "cell_type": "markdown",
      "source": [
        "# Step 7 Design Pipeline \n",
        "\n",
        "\n",
        "## Features we need \n",
        "\n",
        "- User Authentication (SQL)\n",
        "- Database (SQL)\n",
        "- Payment (Stripe)\n",
        "- Uploads (Flask native)\n",
        "- Inference (Keras)\n",
        "\n",
        "![alt text](https://i.imgur.com/d3jNLfN.jpg)\n",
        "\n",
        "#### OK so...\n",
        "\n",
        "- Authentication + Database + Payment functionality https://github.com/alectrocute/flasksaas \n",
        "- Upload functionality https://github.com/bboe/flask-image-uploader  \n",
        "- Inference? Keras\n",
        "\n",
        "##### basically..\n",
        "\n",
        "If upload && paid == true, run inference, display result!\n",
        "\n",
        "\n"
      ]
    },
    {
      "metadata": {
        "id": "eOiaMrTdaKNa",
        "colab_type": "text"
      },
      "cell_type": "markdown",
      "source": [
        "### Step 8 Transfer Learning (!)\n",
        "\n",
        "\n",
        "## Convolutional Networks do really well at Image classification \n",
        "\n",
        "![alt text](https://adeshpande3.github.io/assets/Cover.png)\n",
        "\n",
        "## So we just need to train a model on labeled data\n",
        "\n",
        "![alt text](https://datawhatnow.com/wp-content/uploads/2017/08/pseudo-labeling-683x1024.png)\n",
        "\n",
        "## But that already exists! \n",
        "\n",
        "![alt text](https://www.topbots.com/wp-content/uploads/2017/06/nnarch1-1.png)\n",
        "\n",
        "## So we'll retrain an existing model (ResNet) on new data to leverage existing learnings and improve overall accuracy (transfer learning!)\n",
        "\n",
        "- 1: There is no need for an extremely large training dataset.\n",
        "\n",
        "- 2: Not much computational power is required. As we are using pre-trained weights and only have to learn the weights of the last few layers.\n"
      ]
    },
    {
      "metadata": {
        "id": "lWErPieZra8h",
        "colab_type": "text"
      },
      "cell_type": "markdown",
      "source": [
        "# Step 9 - Write Web App\n",
        "\n"
      ]
    },
    {
      "metadata": {
        "id": "a1GTps3xvxgv",
        "colab_type": "text"
      },
      "cell_type": "markdown",
      "source": [
        "# Step 10 - Deploy! "
      ]
    },
    {
      "metadata": {
        "id": "21hh9tbGv09J",
        "colab_type": "text"
      },
      "cell_type": "markdown",
      "source": [
        "- Mobile app?\n",
        "- Continous Serving via Tensorflow Serving\n",
        "- Batch inference\n",
        "- Better Design\n"
      ]
    }
  ]
}
